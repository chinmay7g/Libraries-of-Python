{
 "cells": [
  {
   "cell_type": "code",
   "execution_count": 1,
   "metadata": {},
   "outputs": [],
   "source": [
    "import pandas as pd\n",
    "import numpy as np"
   ]
  },
  {
   "cell_type": "code",
   "execution_count": 2,
   "metadata": {},
   "outputs": [],
   "source": [
    "def gen_football_team(n_players, mean_shoe, mean_jersey):\n",
    "    shoes_sizes = np.random.normal(size =n_players, loc = mean_shoe, scale = .15*mean_shoe)\n",
    "    jersey_sizes = mean_jersey/mean_shoe * shoes_sizes + np.random.normal(scale = .05*mean_jersey, size = n_players)\n",
    "    \n",
    "    return shoes_sizes, jersey_sizes"
   ]
  },
  {
   "cell_type": "code",
   "execution_count": 4,
   "metadata": {},
   "outputs": [],
   "source": [
    "players =  ['Ronaldinho', 'Pele', 'Lionel Messi', 'Zinedine Zidane', 'Didier Drogba', 'Ronaldo', 'Yaya Toure', \n",
    "           'Frank Rijkaard', 'Diego Maradona', 'Mohamed Aboutrika', \"Samuel Eto'o\", 'George Best', 'George Weah', \n",
    "           'Roberto Donadoni']\n",
    "\n",
    "shoes, jerseys = gen_football_team(len(players), 10, 100)\n",
    "\n",
    "df = pd.DataFrame({'shoe_size': shoes, 'jersey_size': jerseys}, index = players)"
   ]
  },
  {
   "cell_type": "code",
   "execution_count": 5,
   "metadata": {},
   "outputs": [
    {
     "data": {
      "text/html": [
       "<div>\n",
       "<style scoped>\n",
       "    .dataframe tbody tr th:only-of-type {\n",
       "        vertical-align: middle;\n",
       "    }\n",
       "\n",
       "    .dataframe tbody tr th {\n",
       "        vertical-align: top;\n",
       "    }\n",
       "\n",
       "    .dataframe thead th {\n",
       "        text-align: right;\n",
       "    }\n",
       "</style>\n",
       "<table border=\"1\" class=\"dataframe\">\n",
       "  <thead>\n",
       "    <tr style=\"text-align: right;\">\n",
       "      <th></th>\n",
       "      <th>shoe_size</th>\n",
       "      <th>jersey_size</th>\n",
       "    </tr>\n",
       "  </thead>\n",
       "  <tbody>\n",
       "    <tr>\n",
       "      <td>Ronaldinho</td>\n",
       "      <td>11.275251</td>\n",
       "      <td>112.855290</td>\n",
       "    </tr>\n",
       "    <tr>\n",
       "      <td>Pele</td>\n",
       "      <td>9.040880</td>\n",
       "      <td>85.915023</td>\n",
       "    </tr>\n",
       "    <tr>\n",
       "      <td>Lionel Messi</td>\n",
       "      <td>8.256827</td>\n",
       "      <td>84.576688</td>\n",
       "    </tr>\n",
       "    <tr>\n",
       "      <td>Zinedine Zidane</td>\n",
       "      <td>11.045846</td>\n",
       "      <td>105.112960</td>\n",
       "    </tr>\n",
       "    <tr>\n",
       "      <td>Didier Drogba</td>\n",
       "      <td>9.255099</td>\n",
       "      <td>88.046014</td>\n",
       "    </tr>\n",
       "  </tbody>\n",
       "</table>\n",
       "</div>"
      ],
      "text/plain": [
       "                 shoe_size  jersey_size\n",
       "Ronaldinho       11.275251   112.855290\n",
       "Pele              9.040880    85.915023\n",
       "Lionel Messi      8.256827    84.576688\n",
       "Zinedine Zidane  11.045846   105.112960\n",
       "Didier Drogba     9.255099    88.046014"
      ]
     },
     "execution_count": 5,
     "metadata": {},
     "output_type": "execute_result"
    }
   ],
   "source": [
    "df.head()"
   ]
  },
  {
   "cell_type": "code",
   "execution_count": 6,
   "metadata": {},
   "outputs": [
    {
     "data": {
      "text/plain": [
       "(14, 2)"
      ]
     },
     "execution_count": 6,
     "metadata": {},
     "output_type": "execute_result"
    }
   ],
   "source": [
    "df.shape"
   ]
  },
  {
   "cell_type": "code",
   "execution_count": 7,
   "metadata": {},
   "outputs": [
    {
     "data": {
      "text/html": [
       "<div>\n",
       "<style scoped>\n",
       "    .dataframe tbody tr th:only-of-type {\n",
       "        vertical-align: middle;\n",
       "    }\n",
       "\n",
       "    .dataframe tbody tr th {\n",
       "        vertical-align: top;\n",
       "    }\n",
       "\n",
       "    .dataframe thead th {\n",
       "        text-align: right;\n",
       "    }\n",
       "</style>\n",
       "<table border=\"1\" class=\"dataframe\">\n",
       "  <thead>\n",
       "    <tr style=\"text-align: right;\">\n",
       "      <th></th>\n",
       "      <th>shoe_size</th>\n",
       "      <th>jersey_size</th>\n",
       "    </tr>\n",
       "  </thead>\n",
       "  <tbody>\n",
       "    <tr>\n",
       "      <td>count</td>\n",
       "      <td>14.000000</td>\n",
       "      <td>14.000000</td>\n",
       "    </tr>\n",
       "    <tr>\n",
       "      <td>mean</td>\n",
       "      <td>10.103968</td>\n",
       "      <td>102.320242</td>\n",
       "    </tr>\n",
       "    <tr>\n",
       "      <td>std</td>\n",
       "      <td>1.284053</td>\n",
       "      <td>15.521368</td>\n",
       "    </tr>\n",
       "    <tr>\n",
       "      <td>min</td>\n",
       "      <td>8.256827</td>\n",
       "      <td>82.216595</td>\n",
       "    </tr>\n",
       "    <tr>\n",
       "      <td>25%</td>\n",
       "      <td>9.094435</td>\n",
       "      <td>88.935013</td>\n",
       "    </tr>\n",
       "    <tr>\n",
       "      <td>50%</td>\n",
       "      <td>9.825962</td>\n",
       "      <td>102.550222</td>\n",
       "    </tr>\n",
       "    <tr>\n",
       "      <td>75%</td>\n",
       "      <td>11.132880</td>\n",
       "      <td>113.826277</td>\n",
       "    </tr>\n",
       "    <tr>\n",
       "      <td>max</td>\n",
       "      <td>12.269690</td>\n",
       "      <td>128.914877</td>\n",
       "    </tr>\n",
       "  </tbody>\n",
       "</table>\n",
       "</div>"
      ],
      "text/plain": [
       "       shoe_size  jersey_size\n",
       "count  14.000000    14.000000\n",
       "mean   10.103968   102.320242\n",
       "std     1.284053    15.521368\n",
       "min     8.256827    82.216595\n",
       "25%     9.094435    88.935013\n",
       "50%     9.825962   102.550222\n",
       "75%    11.132880   113.826277\n",
       "max    12.269690   128.914877"
      ]
     },
     "execution_count": 7,
     "metadata": {},
     "output_type": "execute_result"
    }
   ],
   "source": [
    "df.describe()"
   ]
  },
  {
   "cell_type": "code",
   "execution_count": 8,
   "metadata": {},
   "outputs": [
    {
     "name": "stdout",
     "output_type": "stream",
     "text": [
      "shoe_size       11.614850\n",
      "jersey_size    116.036877\n",
      "Name: Ronaldo, dtype: float64\n"
     ]
    }
   ],
   "source": [
    "print(df.loc['Ronaldo'])"
   ]
  },
  {
   "cell_type": "code",
   "execution_count": 9,
   "metadata": {},
   "outputs": [],
   "source": [
    "#this was how to retrieve a column"
   ]
  },
  {
   "cell_type": "code",
   "execution_count": 10,
   "metadata": {},
   "outputs": [],
   "source": [
    "#to retrieve position based or index based row\n"
   ]
  },
  {
   "cell_type": "code",
   "execution_count": 11,
   "metadata": {},
   "outputs": [
    {
     "name": "stdout",
     "output_type": "stream",
     "text": [
      "                 shoe_size  jersey_size\n",
      "Ronaldinho       11.275251   112.855290\n",
      "Pele              9.040880    85.915023\n",
      "Lionel Messi      8.256827    84.576688\n",
      "Zinedine Zidane  11.045846   105.112960\n",
      "Didier Drogba     9.255099    88.046014\n"
     ]
    }
   ],
   "source": [
    "print(df.iloc[:5])"
   ]
  },
  {
   "cell_type": "code",
   "execution_count": 12,
   "metadata": {},
   "outputs": [],
   "source": [
    "#adding a new column to dataframe\n",
    "\n",
    "df['position'] = np.random.choice(['goaltender', 'defense', 'midfield', 'attack'], size = len(df))"
   ]
  },
  {
   "cell_type": "code",
   "execution_count": 14,
   "metadata": {},
   "outputs": [
    {
     "data": {
      "text/html": [
       "<div>\n",
       "<style scoped>\n",
       "    .dataframe tbody tr th:only-of-type {\n",
       "        vertical-align: middle;\n",
       "    }\n",
       "\n",
       "    .dataframe tbody tr th {\n",
       "        vertical-align: top;\n",
       "    }\n",
       "\n",
       "    .dataframe thead th {\n",
       "        text-align: right;\n",
       "    }\n",
       "</style>\n",
       "<table border=\"1\" class=\"dataframe\">\n",
       "  <thead>\n",
       "    <tr style=\"text-align: right;\">\n",
       "      <th></th>\n",
       "      <th>shoe_size</th>\n",
       "      <th>jersey_size</th>\n",
       "      <th>position</th>\n",
       "    </tr>\n",
       "  </thead>\n",
       "  <tbody>\n",
       "    <tr>\n",
       "      <td>Ronaldinho</td>\n",
       "      <td>11.275251</td>\n",
       "      <td>112.855290</td>\n",
       "      <td>goaltender</td>\n",
       "    </tr>\n",
       "    <tr>\n",
       "      <td>Pele</td>\n",
       "      <td>9.040880</td>\n",
       "      <td>85.915023</td>\n",
       "      <td>goaltender</td>\n",
       "    </tr>\n",
       "    <tr>\n",
       "      <td>Lionel Messi</td>\n",
       "      <td>8.256827</td>\n",
       "      <td>84.576688</td>\n",
       "      <td>goaltender</td>\n",
       "    </tr>\n",
       "    <tr>\n",
       "      <td>Zinedine Zidane</td>\n",
       "      <td>11.045846</td>\n",
       "      <td>105.112960</td>\n",
       "      <td>attack</td>\n",
       "    </tr>\n",
       "    <tr>\n",
       "      <td>Didier Drogba</td>\n",
       "      <td>9.255099</td>\n",
       "      <td>88.046014</td>\n",
       "      <td>goaltender</td>\n",
       "    </tr>\n",
       "    <tr>\n",
       "      <td>Ronaldo</td>\n",
       "      <td>11.614850</td>\n",
       "      <td>116.036877</td>\n",
       "      <td>midfield</td>\n",
       "    </tr>\n",
       "    <tr>\n",
       "      <td>Yaya Toure</td>\n",
       "      <td>12.269690</td>\n",
       "      <td>125.985706</td>\n",
       "      <td>defense</td>\n",
       "    </tr>\n",
       "    <tr>\n",
       "      <td>Frank Rijkaard</td>\n",
       "      <td>9.034168</td>\n",
       "      <td>91.970966</td>\n",
       "      <td>defense</td>\n",
       "    </tr>\n",
       "    <tr>\n",
       "      <td>Diego Maradona</td>\n",
       "      <td>10.269487</td>\n",
       "      <td>103.909459</td>\n",
       "      <td>attack</td>\n",
       "    </tr>\n",
       "    <tr>\n",
       "      <td>Mohamed Aboutrika</td>\n",
       "      <td>11.159176</td>\n",
       "      <td>128.914877</td>\n",
       "      <td>midfield</td>\n",
       "    </tr>\n",
       "    <tr>\n",
       "      <td>Samuel Eto'o</td>\n",
       "      <td>8.494729</td>\n",
       "      <td>82.216595</td>\n",
       "      <td>goaltender</td>\n",
       "    </tr>\n",
       "    <tr>\n",
       "      <td>George Best</td>\n",
       "      <td>9.382438</td>\n",
       "      <td>101.190984</td>\n",
       "      <td>defense</td>\n",
       "    </tr>\n",
       "  </tbody>\n",
       "</table>\n",
       "</div>"
      ],
      "text/plain": [
       "                   shoe_size  jersey_size    position\n",
       "Ronaldinho         11.275251   112.855290  goaltender\n",
       "Pele                9.040880    85.915023  goaltender\n",
       "Lionel Messi        8.256827    84.576688  goaltender\n",
       "Zinedine Zidane    11.045846   105.112960      attack\n",
       "Didier Drogba       9.255099    88.046014  goaltender\n",
       "Ronaldo            11.614850   116.036877    midfield\n",
       "Yaya Toure         12.269690   125.985706     defense\n",
       "Frank Rijkaard      9.034168    91.970966     defense\n",
       "Diego Maradona     10.269487   103.909459      attack\n",
       "Mohamed Aboutrika  11.159176   128.914877    midfield\n",
       "Samuel Eto'o        8.494729    82.216595  goaltender\n",
       "George Best         9.382438   101.190984     defense"
      ]
     },
     "execution_count": 14,
     "metadata": {},
     "output_type": "execute_result"
    }
   ],
   "source": [
    "df.head(12)"
   ]
  },
  {
   "cell_type": "code",
   "execution_count": 15,
   "metadata": {},
   "outputs": [],
   "source": [
    "#adding a new row\n",
    "df.loc['Dylan'] = {'jersey_size':95, 'shoe_size':11, 'position':'midfield'}\n"
   ]
  },
  {
   "cell_type": "code",
   "execution_count": 16,
   "metadata": {},
   "outputs": [
    {
     "data": {
      "text/plain": [
       "shoe_size            11\n",
       "jersey_size          95\n",
       "position       midfield\n",
       "Name: Dylan, dtype: object"
      ]
     },
     "execution_count": 16,
     "metadata": {},
     "output_type": "execute_result"
    }
   ],
   "source": [
    "df.loc['Dylan']"
   ]
  },
  {
   "cell_type": "code",
   "execution_count": null,
   "metadata": {},
   "outputs": [],
   "source": []
  }
 ],
 "metadata": {
  "kernelspec": {
   "display_name": "Python 3",
   "language": "python",
   "name": "python3"
  },
  "language_info": {
   "codemirror_mode": {
    "name": "ipython",
    "version": 3
   },
   "file_extension": ".py",
   "mimetype": "text/x-python",
   "name": "python",
   "nbconvert_exporter": "python",
   "pygments_lexer": "ipython3",
   "version": "3.7.4"
  }
 },
 "nbformat": 4,
 "nbformat_minor": 2
}
